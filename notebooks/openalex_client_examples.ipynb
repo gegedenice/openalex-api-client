{
 "cells": [
  {
   "cell_type": "markdown",
   "id": "bd3daa43",
   "metadata": {},
   "source": [
    "<h3 align=\"center\"></h3>\n",
    "\n",
    "<h1 align=\"center\">Python client for OpenAlex API</h1>\n",
    "\n",
    "---\n",
    "\n",
    "<h2 align=\"center\">Usage examples</h2>"
   ]
  },
  {
   "cell_type": "markdown",
   "id": "5ab5ea3c",
   "metadata": {},
   "source": [
    "# Requirements"
   ]
  },
  {
   "cell_type": "code",
   "execution_count": 23,
   "id": "16dcef3b",
   "metadata": {},
   "outputs": [
    {
     "name": "stdout",
     "output_type": "stream",
     "text": [
      "The autoreload extension is already loaded. To reload it, use:\n",
      "  %reload_ext autoreload\n"
     ]
    }
   ],
   "source": [
    "%load_ext autoreload\n",
    "%autoreload 2"
   ]
  },
  {
   "cell_type": "code",
   "execution_count": 24,
   "id": "b0b5c175",
   "metadata": {},
   "outputs": [],
   "source": [
    "import sys\n",
    "import os\n",
    "sys.path.append('..')"
   ]
  },
  {
   "cell_type": "code",
   "execution_count": 32,
   "id": "65465168",
   "metadata": {},
   "outputs": [],
   "source": [
    "from openalex_api_client import OpenAlexClient, OpenAlexClientError\n",
    "import json\n",
    "import pprint\n",
    "import logging"
   ]
  },
  {
   "cell_type": "markdown",
   "id": "28bd13e7",
   "metadata": {},
   "source": [
    "# Examples"
   ]
  },
  {
   "cell_type": "code",
   "execution_count": 26,
   "id": "4ca61e94",
   "metadata": {},
   "outputs": [
    {
     "name": "stderr",
     "output_type": "stream",
     "text": [
      "2025-05-01 17:29:40,919 - INFO - OpenAlexClient initialized with email: your.email@example.com\n"
     ]
    },
    {
     "name": "stdout",
     "output_type": "stream",
     "text": [
      "\n",
      "--- Testing Convenience Methods ---\n"
     ]
    }
   ],
   "source": [
    "# Initialize the client\n",
    "client = OpenAlexClient(email=\"your.email@example.com\")\n",
    "\n",
    "# --- Test Convenience Methods ---\n",
    "print(\"\\n--- Testing Convenience Methods ---\")"
   ]
  },
  {
   "cell_type": "markdown",
   "id": "e4e3c780",
   "metadata": {},
   "source": [
    "## Works"
   ]
  },
  {
   "cell_type": "markdown",
   "id": "b83dee16",
   "metadata": {},
   "source": [
    "### Basics"
   ]
  },
  {
   "cell_type": "code",
   "execution_count": 6,
   "id": "9c5805b3",
   "metadata": {},
   "outputs": [
    {
     "name": "stdout",
     "output_type": "stream",
     "text": [
      "Work ID: https://openalex.org/W1775749144\n",
      "Work Title: PROTEIN MEASUREMENT WITH THE FOLIN PHENOL REAGENT\n"
     ]
    }
   ],
   "source": [
    "# Get one work to test the client\n",
    "try:\n",
    "    raw_work = client.get_work(\"W1775749144\")\n",
    "    print(f\"Work ID: {raw_work.get('id', 'N/A')}\")\n",
    "    print(f\"Work Title: {raw_work.get('title', 'N/A')}\")\n",
    "except OpenAlexClientError as e:\n",
    "    print(f\"Error getting work {e}\")"
   ]
  },
  {
   "cell_type": "code",
   "execution_count": 10,
   "id": "a840b9e0",
   "metadata": {},
   "outputs": [
    {
     "name": "stdout",
     "output_type": "stream",
     "text": [
      "id: https://openalex.org/W1775749144\n",
      "\n",
      "doi: https://doi.org/10.1016/s0021-9258(19)52451-6\n",
      "\n",
      "title: PROTEIN MEASUREMENT WITH THE FOLIN PHENOL REAGENT\n",
      "\n",
      "publication_year: 1951\n",
      "\n",
      "language: en\n",
      "\n",
      "type: article\n",
      "\n",
      "pmid: https://pubmed.ncbi.nlm.nih.gov/14907713\n",
      "\n",
      "mag: 1775749144\n",
      "\n",
      "apc_paid: 2500\n",
      "\n",
      "referenced_works_count: 20\n",
      "\n",
      "cited_by_count: 320235\n",
      "\n",
      "countries_distinct_count: 1\n",
      "\n",
      "institutions_distinct_count: 1\n",
      "\n",
      "locations_count: 2\n",
      "\n",
      "fwci: 39.503\n",
      "\n",
      "primary_location_display_name: Journal of Biological Chemistry\n",
      "\n",
      "primary_location_host_organization_name: Elsevier BV\n",
      "\n",
      "publication_date: 1951-11-01T00:00:00Z\n",
      "\n",
      "percentiles_value: 0.99962\n",
      "\n",
      "percentiles_is_in_top_1_percent: True\n",
      "\n",
      "percentiles_is_in_top_10_percent: True\n",
      "\n",
      "open_access_is_oa: True\n",
      "\n",
      "open_access_oa_status: hybrid\n",
      "\n",
      "countries_codes: US\n",
      "\n",
      "authorships_author_display_name: A. Farr|NiraJ. Rosebrough|OliverH. Lowry|RoseJ. Randall\n",
      "\n",
      "authorships_institutions_display_name: Washington University in St. Louis\n",
      "\n",
      "topics_display_name: Cancer and biochemical research|Glycosylation and Glycoproteins Research|Muscle metabolism and nutrition\n",
      "\n",
      "topics_subfield_display_name: Cell Biology|Molecular Biology\n",
      "\n",
      "topics_field_display_name: Biochemistry, Genetics and Molecular Biology\n",
      "\n",
      "topics_domain_display_name: Life Sciences\n",
      "\n",
      "sustainable_development_goals_display_name: Clean water and sanitation\n",
      "\n"
     ]
    }
   ],
   "source": [
    "# Get one digest work\n",
    "try:\n",
    "    digested_work = client.get_work(\"W1775749144\", digest=True)\n",
    "    for k,v in digested_work.items():\n",
    "        print(f\"{k}: {v}\\n\")\n",
    "except OpenAlexClientError as e:\n",
    "    print(f\"Error getting work {e}\")"
   ]
  },
  {
   "cell_type": "code",
   "execution_count": 28,
   "id": "2efa5446",
   "metadata": {},
   "outputs": [
    {
     "name": "stdout",
     "output_type": "stream",
     "text": [
      "Number of items: 2\n",
      "{'apc_paid': 2500,\n",
      " 'authorships_author_display_name': 'A. Farr|NiraJ. Rosebrough|OliverH. '\n",
      "                                    'Lowry|RoseJ. Randall',\n",
      " 'authorships_institutions_display_name': 'Washington University in St. Louis',\n",
      " 'cited_by_count': 320235,\n",
      " 'countries_codes': 'US',\n",
      " 'countries_distinct_count': 1,\n",
      " 'doi': 'https://doi.org/10.1016/s0021-9258(19)52451-6',\n",
      " 'fwci': 39.503,\n",
      " 'id': 'https://openalex.org/W1775749144',\n",
      " 'institutions_distinct_count': 1,\n",
      " 'language': 'en',\n",
      " 'locations_count': 2,\n",
      " 'mag': '1775749144',\n",
      " 'open_access_is_oa': True,\n",
      " 'open_access_oa_status': 'hybrid',\n",
      " 'percentiles_is_in_top_10_percent': True,\n",
      " 'percentiles_is_in_top_1_percent': True,\n",
      " 'percentiles_value': 0.99962,\n",
      " 'pmid': 'https://pubmed.ncbi.nlm.nih.gov/14907713',\n",
      " 'primary_location_display_name': 'Journal of Biological Chemistry',\n",
      " 'primary_location_host_organization_name': 'Elsevier BV',\n",
      " 'publication_date': '1951-11-01T00:00:00Z',\n",
      " 'publication_year': 1951,\n",
      " 'referenced_works_count': 20,\n",
      " 'sustainable_development_goals_display_name': 'Clean water and sanitation',\n",
      " 'title': 'PROTEIN MEASUREMENT WITH THE FOLIN PHENOL REAGENT',\n",
      " 'topics_display_name': 'Cancer and biochemical research|Glycosylation and '\n",
      "                        'Glycoproteins Research|Muscle metabolism and '\n",
      "                        'nutrition',\n",
      " 'topics_domain_display_name': 'Life Sciences',\n",
      " 'topics_field_display_name': 'Biochemistry, Genetics and Molecular Biology',\n",
      " 'topics_subfield_display_name': 'Cell Biology|Molecular Biology',\n",
      " 'type': 'article'}\n",
      "{'apc_paid': None,\n",
      " 'authorships_author_display_name': 'R Core Team',\n",
      " 'cited_by_count': 303138,\n",
      " 'countries_codes': '',\n",
      " 'countries_distinct_count': 0,\n",
      " 'doi': None,\n",
      " 'fwci': 39348.41,\n",
      " 'id': 'https://openalex.org/W2582743722',\n",
      " 'institutions_distinct_count': 0,\n",
      " 'language': 'en',\n",
      " 'locations_count': 1,\n",
      " 'mag': '2582743722',\n",
      " 'open_access_is_oa': False,\n",
      " 'open_access_oa_status': 'closed',\n",
      " 'percentiles_is_in_top_10_percent': True,\n",
      " 'percentiles_is_in_top_1_percent': True,\n",
      " 'percentiles_value': 0.999977,\n",
      " 'pmid': '',\n",
      " 'primary_location_display_name': 'MSOR Connections',\n",
      " 'primary_location_host_organization_name': None,\n",
      " 'publication_date': '2014-01-01T00:00:00Z',\n",
      " 'publication_year': 2014,\n",
      " 'referenced_works_count': 0,\n",
      " 'title': 'R: A language and environment for statistical computing.',\n",
      " 'topics_display_name': 'Data Mining Algorithms and Applications',\n",
      " 'topics_domain_display_name': 'Physical Sciences',\n",
      " 'topics_field_display_name': 'Computer Science',\n",
      " 'topics_subfield_display_name': 'Information Systems',\n",
      " 'type': 'article'}\n"
     ]
    }
   ],
   "source": [
    "# List digested works of a 25 page result set\n",
    "try:\n",
    "    digested_works = client.list_works(digest=True, per_page=2)\n",
    "    print(f\"Number of items: {len(digested_works)}\")\n",
    "    for work in digested_works:\n",
    "        pprint.pprint(work)\n",
    "except OpenAlexClientError as e:\n",
    "    print(f\"Error getting items: {e}\")"
   ]
  },
  {
   "cell_type": "markdown",
   "id": "3e24e08a",
   "metadata": {},
   "source": [
    "### Advanced"
   ]
  },
  {
   "cell_type": "code",
   "execution_count": null,
   "id": "ad51f840",
   "metadata": {},
   "outputs": [],
   "source": [
    "# Example 1: Get works from 2020 with digested data\n",
    "works_2020 = client.list_works(\n",
    "    digest=True,\n",
    "    filter=\"publication_year:2020\",\n",
    "    per_page=25\n",
    ")\n",
    "\n",
    "# Example 2: Get works from 2020 that are open access\n",
    "works_2020_oa = client.list_works(\n",
    "    digest=True,\n",
    "    filter=\"publication_year:2020,is_oa:true\",\n",
    "    per_page=25\n",
    ")\n",
    "\n",
    "# Example 3: Get works from 2020 with high citation count\n",
    "works_2020_cited = client.list_works(\n",
    "    digest=True,\n",
    "    filter=\"publication_year:2020,cited_by_count:>100\",\n",
    "    per_page=25\n",
    ")\n",
    "\n",
    "# Example 4: Get all works from 2020 (paginated)\n",
    "all_works_2020 = client.list_all_works(\n",
    "    digest=True,\n",
    "    filter=\"publication_year:2020\",\n",
    "    per_page=100  # Larger page size for efficiency\n",
    ")\n",
    "\n",
    "# Example 5: Complex filter with multiple conditions\n",
    "complex_filter = \"publication_year:2020,is_oa:true,type:journal-article,institutions.country_code:FR\"\n",
    "works_complex = client.list_works(\n",
    "    digest=True,\n",
    "    filter=complex_filter,\n",
    "    per_page=25\n",
    ")\n",
    "\n",
    "# Example 6: Using select to get only specific fields\n",
    "works_selected = client.list_works(\n",
    "    digest=True,\n",
    "    filter=\"publication_year:2020\",\n",
    "    select=\"id,doi,title,publication_year,cited_by_count\",\n",
    "    sort=\"cited_by_count:desc\",\n",
    "    per_page=25\n",
    ")"
   ]
  },
  {
   "cell_type": "code",
   "execution_count": 33,
   "id": "bca0dc2b",
   "metadata": {},
   "outputs": [
    {
     "name": "stderr",
     "output_type": "stream",
     "text": [
      "2025-05-01 17:48:03,461 - INFO - Fetching 40 resources from 4 pages for endpoint 'works'\n",
      "2025-05-01 17:48:04,136 - INFO - Fetched page 1/4 - Total records so far: 10\n",
      "2025-05-01 17:48:05,011 - INFO - Fetched page 2/4 - Total records so far: 20\n",
      "2025-05-01 17:48:05,721 - INFO - Fetched page 3/4 - Total records so far: 30\n",
      "2025-05-01 17:48:07,470 - WARNING - Error parsing citation_normalized_percentile: 'NoneType' object has no attribute 'items'\n",
      "2025-05-01 17:48:07,480 - WARNING - Error parsing citation_normalized_percentile: 'NoneType' object has no attribute 'items'\n",
      "2025-05-01 17:48:07,480 - WARNING - Error parsing citation_normalized_percentile: 'NoneType' object has no attribute 'items'\n",
      "2025-05-01 17:48:07,480 - WARNING - Error parsing citation_normalized_percentile: 'NoneType' object has no attribute 'items'\n",
      "2025-05-01 17:48:07,480 - WARNING - Error parsing citation_normalized_percentile: 'NoneType' object has no attribute 'items'\n",
      "2025-05-01 17:48:07,480 - WARNING - Error parsing citation_normalized_percentile: 'NoneType' object has no attribute 'items'\n",
      "2025-05-01 17:48:07,480 - WARNING - Error parsing citation_normalized_percentile: 'NoneType' object has no attribute 'items'\n",
      "2025-05-01 17:48:07,480 - WARNING - Error parsing citation_normalized_percentile: 'NoneType' object has no attribute 'items'\n",
      "2025-05-01 17:48:07,490 - INFO - Fetched page 4/4 - Total records so far: 40\n",
      "2025-05-01 17:48:07,490 - INFO - Completed fetching 40 resources from endpoint 'works'\n"
     ]
    },
    {
     "name": "stdout",
     "output_type": "stream",
     "text": [
      "[{'id': 'https://openalex.org/W4406385646', 'doi': 'https://doi.org/10.1038/s41586-024-08403-y', 'title': 'Elemental cryo-imaging reveals SOS1-dependent vacuolar sodium accumulation', 'publication_year': 2025, 'language': 'en', 'type': 'article', 'pmid': 'https://pubmed.ncbi.nlm.nih.gov/39814877', 'mag': '', 'apc_paid': 11690, 'referenced_works_count': 39, 'cited_by_count': 4, 'countries_distinct_count': 2, 'institutions_distinct_count': 6, 'locations_count': 2, 'fwci': 43.146, 'primary_location_display_name': 'Nature', 'primary_location_host_organization_name': 'Nature Portfolio', 'publication_date': '2025-01-15T00:00:00Z', 'percentiles_value': 0.999944, 'percentiles_is_in_top_1_percent': True, 'percentiles_is_in_top_10_percent': True, 'open_access_is_oa': True, 'open_access_oa_status': 'hybrid', 'countries_codes': 'CH|ES', 'authorships_author_display_name': 'Anders Meibom|Antonietta De Luca|Christel Genoud|Clara Sánchez‐Rodríguez|Cristina Martin‐Olmos|Damien De Bellis|Etienne Bellani|Francisco J. Quintero|Francisco M. Gámez‐Arjona|José M. Pardo|Niko Geldner|Priya Ramakrishna|Stéphane Escrig', 'authorships_institutions_display_name': 'Consejo Superior de Investigaciones Científicas|ETH Zurich|Instituto de Bioquímica Vegetal y Fotosíntesis|Universidad de Sevilla|University of Lausanne|École Polytechnique Fédérale de Lausanne', 'topics_display_name': 'ATP Synthase and ATPases Research|Infant Nutrition and Health|Ion Transport and Channel Regulation', 'topics_subfield_display_name': 'Molecular Biology|Nutrition and Dietetics', 'topics_field_display_name': 'Biochemistry, Genetics and Molecular Biology|Nursing', 'topics_domain_display_name': 'Health Sciences|Life Sciences'}, {'id': 'https://openalex.org/W4406364339', 'doi': 'https://doi.org/10.1016/j.isci.2025.111814', 'title': 'Urolithin A Provides Cardioprotection and Mitochondrial Quality Enhancement in Rodents and Improves Human Cardiovascular Biomarkers', 'publication_year': 2025, 'language': 'en', 'type': 'article', 'pmid': 'https://pubmed.ncbi.nlm.nih.gov/40034121', 'mag': '', 'apc_paid': 3000, 'referenced_works_count': 59, 'cited_by_count': 2, 'countries_distinct_count': 5, 'institutions_distinct_count': 5, 'locations_count': 2, 'fwci': 29.151, 'primary_location_display_name': 'iScience', 'primary_location_host_organization_name': 'Cell Press', 'publication_date': '2025-01-14T00:00:00Z', 'percentiles_value': 0.999666, 'percentiles_is_in_top_1_percent': True, 'percentiles_is_in_top_10_percent': True, 'open_access_is_oa': True, 'open_access_oa_status': 'gold', 'grants_funder_display_name': 'National Institutes of Health', 'countries_codes': 'CH|FI|FR|GB|US', 'authorships_author_display_name': 'Anurag Singh|Chris Rinsch|Cécile Tissot|David J. Marcinek|Davide D’Amico|Dimitris Konstantopoulos|Guillaume Bourdier|Héctor Gallart‐Ayala|Julie Faitg|Julijana Ivanišević|Pénélope A. Andreux|Ross Laws|Sophia Liu|Tracey Davey', 'authorships_institutions_display_name': 'Amazentis (Switzerland)|Newcastle University|University of Lausanne|University of Washington Medical Center|École Polytechnique Fédérale de Lausanne', 'topics_display_name': 'Antioxidant Activity and Oxidative Stress|Paraoxonase enzyme and polymorphisms|Pomegranate: compositions and health benefits', 'topics_subfield_display_name': 'Biochemistry|Clinical Biochemistry|Nutrition and Dietetics', 'topics_field_display_name': 'Biochemistry, Genetics and Molecular Biology|Medicine|Nursing', 'topics_domain_display_name': 'Health Sciences|Life Sciences', 'keywords_display_name': 'Cardioprotection', 'sustainable_development_goals_display_name': 'Zero hunger'}, {'id': 'https://openalex.org/W4406845005', 'doi': 'https://doi.org/10.1038/s41592-024-02583-1', 'title': 'A deep learning pipeline for three-dimensional brain-wide mapping of local neuronal ensembles in teravoxel light-sheet microscopy', 'publication_year': 2025, 'language': 'en', 'type': 'article', 'pmid': 'https://pubmed.ncbi.nlm.nih.gov/39870865', 'mag': '', 'apc_paid': 11690, 'referenced_works_count': 77, 'cited_by_count': 2, 'countries_distinct_count': 3, 'institutions_distinct_count': 10, 'locations_count': 2, 'fwci': 12.288, 'primary_location_display_name': 'Nature Methods', 'primary_location_host_organization_name': 'Nature Portfolio', 'publication_date': '2025-01-27T00:00:00Z', 'percentiles_value': 0.998877, 'percentiles_is_in_top_1_percent': True, 'percentiles_is_in_top_10_percent': True, 'open_access_is_oa': True, 'open_access_oa_status': 'hybrid', 'countries_codes': 'CA|CH|US', 'authorships_author_display_name': 'Ahmadreza Attarpour|Anthony Rinaldi|Bojana Stefanovic|Fengqing Yu|Grégoire Courtine|JoAnne McLaurin|Jonas Osmann|Jordan W. Squair|Karl Deisseroth|Li Ye|Maged Goubran|Matthew Rozak|Misha Raffiee|Neeraj K. Lal|Newton Cho|Shruti Patel|Tianbo Qi', 'authorships_institutions_display_name': 'Health Sciences Centre|Howard Hughes Medical Institute|Scripps Research Institute|Stanford University|Sunnybrook Health Science Centre|Sunnybrook Hospital|Sunnybrook Research Institute|University of Lausanne|University of Toronto|École Polytechnique Fédérale de Lausanne', 'topics_display_name': 'Advanced Electron Microscopy Techniques and Applications|Advanced Fluorescence Microscopy Techniques|Cell Image Analysis Techniques', 'topics_subfield_display_name': 'Biophysics|Structural Biology', 'topics_field_display_name': 'Biochemistry, Genetics and Molecular Biology', 'topics_domain_display_name': 'Life Sciences'}, {'id': 'https://openalex.org/W4405994029', 'doi': 'https://doi.org/10.1242/dmm.052130', 'title': 'A new effLuc/Kate dual reporter allele for tumour imaging in mice', 'publication_year': 2025, 'language': 'en', 'type': 'article', 'pmid': 'https://pubmed.ncbi.nlm.nih.gov/39745082', 'mag': '', 'apc_paid': 3750, 'referenced_works_count': 33, 'cited_by_count': 1, 'countries_distinct_count': 4, 'institutions_distinct_count': 8, 'locations_count': 2, 'fwci': 17.006, 'primary_location_display_name': 'Disease Models & Mechanisms', 'primary_location_host_organization_name': 'The Company of Biologists', 'publication_date': '2025-01-02T00:00:00Z', 'percentiles_value': 0.999821, 'percentiles_is_in_top_1_percent': True, 'percentiles_is_in_top_10_percent': True, 'open_access_is_oa': True, 'open_access_oa_status': 'gold', 'grants_funder_display_name': 'H2020 European Research Council', 'countries_codes': 'AT|CH|DK|ES', 'authorships_author_display_name': 'Carolina Marques|Douglas Hanahan|Elizabeth Allen|Erwin F. Wagner|Kazuhiko Matsuoka|Ke Cheng|Latifa Bakiri|Martin K. Thomsen|Massimo Squatrito|Mélanie Tichet|Stefanie Stolzlechner', 'authorships_institutions_display_name': 'Aarhus University|Comprehensive Cancer Center Vienna|Ludwig Cancer Research|Medical University of Vienna|Spanish National Cancer Research Centre|Swiss Cancer Center Léman|Swiss Group For Clinical Cancer Research|École Polytechnique Fédérale de Lausanne', 'topics_display_name': 'Cancer Research and Treatments|Viral Infectious Diseases and Gene Expression in Insects|Virus-based gene therapy research', 'topics_subfield_display_name': 'Biotechnology|Genetics|Molecular Biology', 'topics_field_display_name': 'Biochemistry, Genetics and Molecular Biology', 'topics_domain_display_name': 'Life Sciences', 'sustainable_development_goals_display_name': 'Good health and well-being'}, {'id': 'https://openalex.org/W4407093893', 'doi': 'https://doi.org/10.1038/s41467-025-56529-y', 'title': 'Structural basis of SIRT7 nucleosome engagement and substrate specificity', 'publication_year': 2025, 'language': 'en', 'type': 'article', 'pmid': 'https://pubmed.ncbi.nlm.nih.gov/39900593', 'mag': '', 'apc_paid': 4808, 'referenced_works_count': 71, 'cited_by_count': 1, 'countries_distinct_count': 1, 'institutions_distinct_count': 2, 'locations_count': 3, 'fwci': 17.577, 'primary_location_display_name': 'Nature Communications', 'primary_location_host_organization_name': 'Nature Portfolio', 'publication_date': '2025-02-04T00:00:00Z', 'percentiles_value': 0.998767, 'percentiles_is_in_top_1_percent': True, 'percentiles_is_in_top_10_percent': True, 'open_access_is_oa': True, 'open_access_oa_status': 'gold', 'grants_funder_display_name': 'Schweizerischer Nationalfonds zur Förderung der Wissenschaftlichen Forschung|“la Caixa” Foundation', 'countries_codes': 'CH', 'authorships_author_display_name': 'Babatunde Ekundayo|Beat Fierz|Carlos Moreno–Yruela|Dongchun Ni|Esther Calvino-Sanles|Henning Stahlberg|Polina N. Foteva', 'authorships_institutions_display_name': 'University of Lausanne|École Polytechnique Fédérale de Lausanne', 'topics_display_name': 'CRISPR and Genetic Engineering|RNA regulation and disease|Sirtuins and Resveratrol in Medicine', 'topics_subfield_display_name': 'Geriatrics and Gerontology|Molecular Biology', 'topics_field_display_name': 'Biochemistry, Genetics and Molecular Biology|Medicine', 'topics_domain_display_name': 'Health Sciences|Life Sciences'}, {'id': 'https://openalex.org/W4408146101', 'doi': 'https://doi.org/10.1093/schbul/sbad147', 'title': 'Longitudinal Associations Between Self-reported Schizotypy Dimensions and White Matter Integrity Development During Adolescence', 'publication_year': 2025, 'language': 'en', 'type': 'article', 'pmid': 'https://pubmed.ncbi.nlm.nih.gov/40037830', 'mag': '', 'apc_paid': 4562, 'referenced_works_count': 44, 'cited_by_count': 1, 'countries_distinct_count': 3, 'institutions_distinct_count': 6, 'locations_count': 2, 'fwci': 20.861, 'primary_location_display_name': 'Schizophrenia Bulletin', 'primary_location_host_organization_name': 'Oxford University Press', 'publication_date': '2025-03-01T00:00:00Z', 'percentiles_value': 0.999844, 'percentiles_is_in_top_1_percent': True, 'percentiles_is_in_top_10_percent': True, 'open_access_is_oa': True, 'open_access_oa_status': 'hybrid', 'grants_funder_display_name': 'Schweizerischer Nationalfonds zur Förderung der Wissenschaftlichen Forschung', 'countries_codes': 'CH|ES|GB', 'authorships_author_display_name': 'Eduardo Fonseca‐Pedrero|Elodie Sprüngli‐Toffel|George Salaminios|Martin Debbané|Mélodie Derome|Suje Amir', 'authorships_institutions_display_name': 'Universidad de La Rioja|University College London|University of Bern|University of Geneva|University of Lausanne|École Polytechnique Fédérale de Lausanne', 'topics_display_name': 'Advanced Neuroimaging Techniques and Applications|Functional Brain Connectivity Studies|Hearing Loss and Rehabilitation', 'topics_subfield_display_name': 'Cognitive Neuroscience|Radiology, Nuclear Medicine and Imaging', 'topics_field_display_name': 'Medicine|Neuroscience', 'topics_domain_display_name': 'Health Sciences|Life Sciences', 'keywords_display_name': 'Adolescent Development'}, {'id': 'https://openalex.org/W4408275889', 'doi': 'https://doi.org/10.1038/s44321-025-00202-w', 'title': 'Bile acid 7α-dehydroxylating bacteria accelerate injury-induced mucosal healing in the colon', 'publication_year': 2025, 'language': 'en', 'type': 'article', 'pmid': 'https://pubmed.ncbi.nlm.nih.gov/40065134', 'mag': '', 'apc_paid': 5000, 'referenced_works_count': 58, 'cited_by_count': 1, 'countries_distinct_count': 1, 'institutions_distinct_count': 3, 'locations_count': 2, 'fwci': 10.787, 'primary_location_display_name': 'EMBO Molecular Medicine', 'primary_location_host_organization_name': 'Springer Nature', 'publication_date': '2025-03-10T00:00:00Z', 'percentiles_value': 0.999944, 'percentiles_is_in_top_1_percent': True, 'percentiles_is_in_top_10_percent': True, 'open_access_is_oa': True, 'open_access_oa_status': 'gold', 'grants_funder_display_name': 'Schweizerischer Nationalfonds zur Förderung der Wissenschaftlichen Forschung|École Polytechnique Fédérale de Lausanne', 'countries_codes': 'CH', 'authorships_author_display_name': 'Alessia Perino|Antoine Jalil|Colin Volet|Eduard Vico-Oton|Hadrien Demagny|Héctor Gallart‐Ayala|Julijana Ivanišević|Jéromine Imbach|Kristina Schoonjans|Lucie Plantade|Rizlan Bernier‐Latmani|Siegfried Hapfelmeier|Yuan Dong', 'authorships_institutions_display_name': 'University of Bern|University of Lausanne|École Polytechnique Fédérale de Lausanne', 'topics_display_name': 'Drug Transport and Resistance Mechanisms|Gut microbiota and health|Pediatric Hepatobiliary Diseases and Treatments', 'topics_subfield_display_name': 'Molecular Biology|Oncology|Surgery', 'topics_field_display_name': 'Biochemistry, Genetics and Molecular Biology|Medicine', 'topics_domain_display_name': 'Health Sciences|Life Sciences', 'keywords_display_name': 'Deoxycholic acid|Dysbiosis|Homeostasis', 'sustainable_development_goals_display_name': 'Good health and well-being'}, {'id': 'https://openalex.org/W4406015484', 'doi': 'https://doi.org/10.1038/s41598-024-84253-y', 'title': 'Adaptive hip exoskeleton control using heart rate feedback reduces oxygen cost during ecological locomotion', 'publication_year': 2025, 'language': 'en', 'type': 'article', 'pmid': 'https://pubmed.ncbi.nlm.nih.gov/39747512', 'mag': '', 'apc_paid': 2190, 'referenced_works_count': 53, 'cited_by_count': 0, 'countries_distinct_count': 1, 'institutions_distinct_count': 2, 'locations_count': 3, 'fwci': 0.0, 'primary_location_display_name': 'Scientific Reports', 'primary_location_host_organization_name': 'Nature Portfolio', 'publication_date': '2025-01-02T00:00:00Z', 'percentiles_value': 0.0, 'percentiles_is_in_top_1_percent': False, 'percentiles_is_in_top_10_percent': False, 'open_access_is_oa': True, 'open_access_oa_status': 'gold', 'grants_funder_display_name': 'Horizon 2020 Framework Programme|Innosuisse - Schweizerische Agentur für Innovationsförderung', 'countries_codes': 'CH', 'authorships_author_display_name': 'Alexandre Mortier|Ali Reza Manzoori|Auke Jan Ijspeert|Davide Malatesta|Johan Garcia|Mohamed Bouri', 'authorships_institutions_display_name': 'University of Lausanne|École Polytechnique Fédérale de Lausanne', 'topics_display_name': 'Balance, Gait, and Falls Prevention|Muscle activation and electromyography studies|Prosthetics and Rehabilitation Robotics', 'topics_subfield_display_name': 'Biomedical Engineering|Physical Therapy, Sports Therapy and Rehabilitation', 'topics_field_display_name': 'Engineering|Health Professions', 'topics_domain_display_name': 'Health Sciences|Physical Sciences', 'keywords_display_name': 'Stairs', 'sustainable_development_goals_display_name': 'Life below water'}, {'id': 'https://openalex.org/W4406230626', 'doi': 'https://doi.org/10.1038/s41467-024-55605-z', 'title': 'CDK4 inactivation inhibits apoptosis via mitochondria-ER contact remodeling in triple-negative breast cancer', 'publication_year': 2025, 'language': 'en', 'type': 'article', 'pmid': 'https://pubmed.ncbi.nlm.nih.gov/39788939', 'mag': '', 'apc_paid': 4808, 'referenced_works_count': 82, 'cited_by_count': 0, 'countries_distinct_count': 3, 'institutions_distinct_count': 9, 'locations_count': 2, 'fwci': 0.0, 'primary_location_display_name': 'Nature Communications', 'primary_location_host_organization_name': 'Nature Portfolio', 'publication_date': '2025-01-09T00:00:00Z', 'percentiles_value': 0.0, 'percentiles_is_in_top_1_percent': False, 'percentiles_is_in_top_10_percent': False, 'open_access_is_oa': True, 'open_access_oa_status': 'gold', 'grants_funder_display_name': 'Austrian Science Fund|European Molecular Biology Organization|Schweizerischer Nationalfonds zur Förderung der Wissenschaftlichen Forschung', 'countries_codes': 'CH|ES|FR', 'authorships_author_display_name': 'Carlos Ronchi|Catherine Roger|Cathrin Brisken|Dorian V. Ziegler|G Paone|George Sflomos|Héctor Gallart‐Ayala|Jaime López‐Alcalá|Jennifer Rieusset|Julijana Ivanišević|Kanishka Parashar|Katharina Huber|Laia Martínez-Carreres|Lluís Fajas|Lucía C. Leal-Esteban|Marie-Agnès Berger|Marı́a M. Malagón|Melita Irving|Nadège Zanou|Wilson Castro|Xavier Berney|Yves Gouriou', 'authorships_institutions_display_name': 'Hospices Civils de Lyon|Inserm|Instituto Maimónides de Investigación Biomédica de Córdoba|Laboratoire CarMeN|Ludwig Cancer Research|University of Córdoba|University of Lausanne|Université Claude Bernard Lyon 1|École Polytechnique Fédérale de Lausanne', 'topics_display_name': 'Cancer, Hypoxia, and Metabolism|Microtubule and mitosis dynamics|Mitochondrial Function and Pathology', 'topics_subfield_display_name': 'Cancer Research|Cell Biology|Molecular Biology', 'topics_field_display_name': 'Biochemistry, Genetics and Molecular Biology', 'topics_domain_display_name': 'Life Sciences', 'keywords_display_name': 'Triple-negative breast cancer', 'sustainable_development_goals_display_name': 'Good health and well-being'}, {'id': 'https://openalex.org/W4406478651', 'doi': 'https://doi.org/10.1038/s43856-025-00732-x', 'title': 'Harnessing deep learning to detect bronchiolitis obliterans syndrome from chest CT', 'publication_year': 2025, 'language': 'en', 'type': 'article', 'pmid': 'https://pubmed.ncbi.nlm.nih.gov/39820581', 'mag': '', 'apc_paid': 2808, 'referenced_works_count': 29, 'cited_by_count': 0, 'countries_distinct_count': 3, 'institutions_distinct_count': 6, 'locations_count': 3, 'fwci': 0.0, 'primary_location_display_name': 'Communications Medicine', 'primary_location_host_organization_name': 'Nature Portfolio', 'publication_date': '2025-01-16T00:00:00Z', 'percentiles_value': 0.0, 'percentiles_is_in_top_1_percent': False, 'percentiles_is_in_top_10_percent': False, 'open_access_is_oa': True, 'open_access_oa_status': 'gold', 'countries_codes': 'AT|CH|TR', 'authorships_author_display_name': 'Alessio Casutt|Angela Koutsokera|Argyro Vraka|Catherine Beigelman-Aubry|Christophe von Garnier|Doruk Öner|Horst Bischof|Jakub Gwizdała|John‐David Aubert|Martin Urschler|Mateusz Koziński|Michele De Palma|Nahal Mansouri|Pascal Fua|Sahand Jamal Rahi', 'authorships_institutions_display_name': 'Bilkent University|Graz University of Technology|Medical University of Graz|Swiss Cancer Center Léman|University of Lausanne|École Polytechnique Fédérale de Lausanne', 'topics_display_name': 'Cardiac Structural Anomalies and Repair|Mechanical Circulatory Support Devices|Transplantation: Methods and Outcomes', 'topics_subfield_display_name': 'Biomedical Engineering|Surgery', 'topics_field_display_name': 'Engineering|Medicine', 'topics_domain_display_name': 'Health Sciences|Physical Sciences'}, {'id': 'https://openalex.org/W4406490431', 'doi': 'https://doi.org/10.1186/s12913-024-12163-w', 'title': 'Caregiver alignment with triage acuity levels and drivers for discrepancy between caregiver assessment and triage acuity levels: a cross-sectional questionnaire based study', 'publication_year': 2025, 'language': 'en', 'type': 'article', 'pmid': 'https://pubmed.ncbi.nlm.nih.gov/39825323', 'mag': '', 'apc_paid': 2195, 'referenced_works_count': 37, 'cited_by_count': 0, 'countries_distinct_count': 2, 'institutions_distinct_count': 5, 'locations_count': 2, 'fwci': 0.0, 'primary_location_display_name': 'BMC Health Services Research', 'primary_location_host_organization_name': 'BioMed Central', 'publication_date': '2025-01-17T00:00:00Z', 'percentiles_value': 0.0, 'percentiles_is_in_top_1_percent': False, 'percentiles_is_in_top_10_percent': False, 'open_access_is_oa': True, 'open_access_oa_status': 'gold', 'countries_codes': 'CH|US', 'authorships_author_display_name': 'Carl Starvaggi|Kristina Keitel|Manon Jaboyedoff|Noelie Lengeler|Sophie Affentranger', 'authorships_institutions_display_name': \"Children's National|University Hospital of Bern|University of Bern|University of Lausanne|École Polytechnique Fédérale de Lausanne\", 'topics_display_name': 'Emergency and Acute Care Studies|Family and Patient Care in Intensive Care Units|Pneumonia and Respiratory Infections', 'topics_subfield_display_name': 'Emergency Medicine|Epidemiology|Radiological and Ultrasound Technology', 'topics_field_display_name': 'Health Professions|Medicine', 'topics_domain_display_name': 'Health Sciences', 'keywords_display_name': 'Cross-sectional study|Emergency nursing|Triage', 'sustainable_development_goals_display_name': 'Peace, justice, and strong institutions'}, {'id': 'https://openalex.org/W4406825084', 'doi': 'https://doi.org/10.1002/adom.202402586', 'title': 'Monitoring of Single‐Cell Bacterial Lysis by Phages Within Integrated Optical Traps', 'publication_year': 2025, 'language': 'en', 'type': 'article', 'pmid': '', 'mag': '', 'apc_paid': 4430, 'referenced_works_count': 42, 'cited_by_count': 0, 'countries_distinct_count': 2, 'institutions_distinct_count': 8, 'locations_count': 2, 'fwci': 0.0, 'primary_location_display_name': 'Advanced Optical Materials', 'primary_location_host_organization_name': 'Wiley', 'publication_date': '2025-01-25T00:00:00Z', 'percentiles_value': 0.0, 'percentiles_is_in_top_1_percent': False, 'percentiles_is_in_top_10_percent': False, 'open_access_is_oa': True, 'open_access_oa_status': 'hybrid', 'grants_funder_display_name': 'Agence Nationale de la Recherche|Schweizerischer Nationalfonds zur Förderung der Wissenschaftlichen Forschung', 'countries_codes': 'CH|FR', 'authorships_author_display_name': 'E. Hadji|Emmanuel Picard|Enrico Tartari|Grégory Resch|Hugues de Villiers de la Noue|M. Zelsmann|Nicolas Villa|Pierre R. Marcoux|R. Houdré|Simon Glicenstein', 'authorships_institutions_display_name': \"CEA Grenoble|CEA LETI|Centre National de la Recherche Scientifique|Commissariat à l'Énergie Atomique et aux Énergies Alternatives|Institut polytechnique de Grenoble|University of Lausanne|Université Grenoble Alpes|École Polytechnique Fédérale de Lausanne\", 'topics_display_name': 'Bacteriophages and microbial interactions|Biosensors and Analytical Detection|Microbial infections and disease research', 'topics_subfield_display_name': 'Biomedical Engineering|Ecology|Microbiology', 'topics_field_display_name': 'Engineering|Environmental Science|Immunology and Microbiology', 'topics_domain_display_name': 'Life Sciences|Physical Sciences', 'keywords_display_name': 'Bacterial virus', 'sustainable_development_goals_display_name': 'Life on land'}, {'id': 'https://openalex.org/W4406951361', 'doi': 'https://doi.org/10.1371/journal.pone.0317535', 'title': 'Characterization of language abilities and semantic networks in very preterm children at school-age', 'publication_year': 2025, 'language': 'en', 'type': 'article', 'pmid': 'https://pubmed.ncbi.nlm.nih.gov/39879200', 'mag': '', 'apc_paid': 1805, 'referenced_works_count': 44, 'cited_by_count': 0, 'countries_distinct_count': 2, 'institutions_distinct_count': 4, 'locations_count': 3, 'fwci': 0.0, 'primary_location_display_name': 'PLoS ONE', 'primary_location_host_organization_name': 'Public Library of Science', 'publication_date': '2025-01-29T00:00:00Z', 'percentiles_value': 0.0, 'percentiles_is_in_top_1_percent': False, 'percentiles_is_in_top_10_percent': False, 'open_access_is_oa': True, 'open_access_oa_status': 'gold', 'countries_codes': 'CH|US', 'authorships_author_display_name': 'Alexander P. Christensen|Cléo Huguenin-Virchaux|Céline J. Fischer Fumeaux|J Schneider|Laureline Besuchet|Marion Décaillet|Solange Denervaud', 'authorships_institutions_display_name': \"Centre d'Imagerie BioMedicale|University of Lausanne|Vanderbilt University|École Polytechnique Fédérale de Lausanne\", 'topics_display_name': 'Infant Development and Preterm Care|Language Development and Disorders|Neonatal and fetal brain pathology', 'topics_subfield_display_name': 'Developmental and Educational Psychology|Pediatrics, Perinatology and Child Health', 'topics_field_display_name': 'Medicine|Psychology', 'topics_domain_display_name': 'Health Sciences|Social Sciences', 'keywords_display_name': 'Interconnectivity|Modularity|Verbal fluency test', 'sustainable_development_goals_display_name': 'Quality education'}, {'id': 'https://openalex.org/W4407030853', 'doi': 'https://doi.org/10.1038/s41467-025-55969-w', 'title': 'Lymphatic-derived oxysterols promote anti-tumor immunity and response to immunotherapy in melanoma', 'publication_year': 2025, 'language': 'en', 'type': 'article', 'pmid': 'https://pubmed.ncbi.nlm.nih.gov/39890772', 'mag': '', 'apc_paid': 4808, 'referenced_works_count': 87, 'cited_by_count': 0, 'countries_distinct_count': 4, 'institutions_distinct_count': 14, 'locations_count': 2, 'fwci': 0.0, 'primary_location_display_name': 'Nature Communications', 'primary_location_host_organization_name': 'Nature Portfolio', 'publication_date': '2025-01-31T00:00:00Z', 'percentiles_value': 0.0, 'percentiles_is_in_top_1_percent': False, 'percentiles_is_in_top_10_percent': False, 'open_access_is_oa': True, 'open_access_oa_status': 'gold', 'countries_codes': 'BE|CH|DE|FR', 'authorships_author_display_name': 'Abhishek D. Garg|Camilla Jandus|Caroline Pot|Chen Wang|Christoph Scheiermann|Dale Brighouse|Daniel E. Speiser|David Tarussio|Giulio G. Muccioli|Jean‐Marc A. Lobaccaro|Julien Angelillo|Julien Montorfani|Krisztián Homicskó|Laure Garnier|Manfred Köpf|Martin Roumain|Mengzhu Sun|Nadine Fournier|Robert L. Chevalier|Robert Pick|Stéphanie Hugues|Stéphanie Tissot-Renaud|Tatiana V. Petrova', 'authorships_institutions_display_name': \"Centre National de la Recherche Scientifique|Centre de Recherche en Nutrition Humaine d'Auvergne|Clermont Université|ETH Zurich|Inserm|KU Leuven|Ludwig Cancer Research|Ludwig-Maximilians-Universität München|SIB Swiss Institute of Bioinformatics|Swiss Cancer Center Léman|University of Lausanne|Université Clermont Auvergne|Walloon Excellence in Lifesciences and Biotechnology|École Polytechnique Fédérale de Lausanne\", 'topics_display_name': 'Immune Cell Function and Interaction|Immunotherapy and Immune Responses|Mast cells and histamine', 'topics_subfield_display_name': 'Immunology', 'topics_field_display_name': 'Immunology and Microbiology', 'topics_domain_display_name': 'Life Sciences', 'keywords_display_name': 'Tumor immunology', 'sustainable_development_goals_display_name': 'Good health and well-being'}, {'id': 'https://openalex.org/W4407230025', 'doi': 'https://doi.org/10.1111/pcmr.70001', 'title': 'Melanin and Neurotransmitter Signalling Genes Are Differentially Co‐Expressed in Growing Feathers of White and Rufous Barn Owls', 'publication_year': 2025, 'language': 'en', 'type': 'article', 'pmid': 'https://pubmed.ncbi.nlm.nih.gov/39910963', 'mag': '', 'apc_paid': 4530, 'referenced_works_count': 129, 'cited_by_count': 0, 'countries_distinct_count': 2, 'institutions_distinct_count': 8, 'locations_count': 2, 'fwci': 0.0, 'primary_location_display_name': 'Pigment Cell & Melanoma Research', 'primary_location_host_organization_name': 'Wiley', 'publication_date': '2025-02-05T00:00:00Z', 'percentiles_value': 0.0, 'percentiles_is_in_top_1_percent': False, 'percentiles_is_in_top_10_percent': False, 'open_access_is_oa': True, 'open_access_oa_status': 'hybrid', 'grants_funder_display_name': 'Schweizerischer Nationalfonds zur Förderung der Wissenschaftlichen Forschung', 'countries_codes': 'CH|FR', 'authorships_author_display_name': 'Alexandre Roulin|Anne‐Lyse Ducrest|Christian Iseli|Céline Simon|Emanuel Schmid‐Siegert|Emmanuel Beaudoing|Hannes Richter|Ioannis Xénarios|Jérôme Goudet|Luis M. San‐Jose|Marco Pagni|Mélanie Dupasquier|Nicolas Guex|Pauline Charruau|Pauline Ducouret|Samuel Neuenschwander|Tristan Cumer', 'authorships_institutions_display_name': 'Centre National de la Recherche Scientifique|HES-SO Genève|Institut de Recherche pour le Développement|SIB Swiss Institute of Bioinformatics|University of Lausanne|Université Toulouse III - Paul Sabatier|Université de Toulouse|École Polytechnique Fédérale de Lausanne', 'topics_display_name': 'Biochemical Analysis and Sensing Techniques|Circadian rhythm and melatonin|melanin and skin pigmentation', 'topics_subfield_display_name': 'Cell Biology|Endocrine and Autonomic Systems|Nutrition and Dietetics', 'topics_field_display_name': 'Biochemistry, Genetics and Molecular Biology|Neuroscience|Nursing', 'topics_domain_display_name': 'Health Sciences|Life Sciences', 'keywords_display_name': 'Barn|Barn-owl|Signalling|Tyto|White (mutation)', 'sustainable_development_goals_display_name': 'Life on land'}, {'id': 'https://openalex.org/W4407409444', 'doi': 'https://doi.org/10.3390/nutraceuticals5010006', 'title': 'Manufacturing Process Development for Bison bison Organ-Specific Lyophilized Extracts: Formulation and Benchmarking of Antioxidant Activities for Nutraceutical Preparations', 'publication_year': 2025, 'language': 'en', 'type': 'article', 'pmid': '', 'mag': '', 'apc_paid': None, 'referenced_works_count': 69, 'cited_by_count': 0, 'countries_distinct_count': 2, 'institutions_distinct_count': 4, 'locations_count': 1, 'fwci': 0.0, 'primary_location_display_name': 'Nutraceuticals', 'primary_location_host_organization_name': 'Multidisciplinary Digital Publishing Institute', 'publication_date': '2025-02-08T00:00:00Z', 'percentiles_value': 0.0, 'percentiles_is_in_top_1_percent': False, 'percentiles_is_in_top_10_percent': False, 'open_access_is_oa': True, 'open_access_oa_status': 'diamond', 'countries_codes': 'CH|FR', 'authorships_author_display_name': 'Alexandre Porcello|Alexis Laurent|Basste Hadjab|Corinne Scaletta|Kelly Lourenço|Kim Girardet|Lee Ann Applegate|Nathalie Hirt‐Burri|Philippe Abdel-Sayed', 'authorships_institutions_display_name': 'Swiss Institute for Regenerative Medicine|University of Lausanne|University of Zurich|École Polytechnique Fédérale de Lausanne', 'topics_display_name': 'Food Quality and Safety Studies|Phytochemicals and Antioxidant Activities|Seaweed-derived Bioactive Compounds', 'topics_subfield_display_name': 'Aquatic Science|Biochemistry|Food Science', 'topics_field_display_name': 'Agricultural and Biological Sciences|Medicine', 'topics_domain_display_name': 'Health Sciences|Life Sciences', 'keywords_display_name': 'Benchmarking|Manufacturing process|Nutraceutical'}, {'id': 'https://openalex.org/W4407595927', 'doi': 'https://doi.org/10.1016/j.celrep.2025.115320', 'title': 'A posterior insula to lateral amygdala pathway transmits US-offset information with a limited role in fear learning', 'publication_year': 2025, 'language': 'en', 'type': 'article', 'pmid': 'https://pubmed.ncbi.nlm.nih.gov/39954251', 'mag': '', 'apc_paid': 5200, 'referenced_works_count': 104, 'cited_by_count': 0, 'countries_distinct_count': 2, 'institutions_distinct_count': 3, 'locations_count': 2, 'fwci': 0.0, 'primary_location_display_name': 'Cell Reports', 'primary_location_host_organization_name': 'Cell Press', 'publication_date': '2025-02-01T00:00:00Z', 'percentiles_value': 0.0, 'percentiles_is_in_top_1_percent': False, 'percentiles_is_in_top_10_percent': False, 'open_access_is_oa': True, 'open_access_oa_status': 'gold', 'grants_funder_display_name': 'Schweizerischer Nationalfonds zur Förderung der Wissenschaftlichen Forschung', 'countries_codes': 'CH|US', 'authorships_author_display_name': 'Bei-Xuan Lin|Denys Osypenko|Jinyun Wu|Olexiy Kochubey|Ralf Schneggenburger|Shriya Palchaudhuri', 'authorships_institutions_display_name': 'New York University|University of Lausanne|École Polytechnique Fédérale de Lausanne', 'topics_display_name': 'Memory and Neural Mechanisms|Neuroscience and Neuropharmacology Research|Photoreceptor and optogenetics research', 'topics_subfield_display_name': 'Cellular and Molecular Neuroscience|Cognitive Neuroscience', 'topics_field_display_name': 'Neuroscience', 'topics_domain_display_name': 'Life Sciences', 'sustainable_development_goals_display_name': 'Reduced inequalities'}, {'id': 'https://openalex.org/W4407629902', 'doi': 'https://doi.org/10.1186/s12986-025-00909-0', 'title': 'The polyphenol metabolite urolithin A suppresses myostatin expression and augments glucose uptake in human skeletal muscle cells', 'publication_year': 2025, 'language': 'en', 'type': 'article', 'pmid': 'https://pubmed.ncbi.nlm.nih.gov/39962542', 'mag': '', 'apc_paid': 2563, 'referenced_works_count': 48, 'cited_by_count': 0, 'countries_distinct_count': 3, 'institutions_distinct_count': 11, 'locations_count': 2, 'fwci': 0.0, 'primary_location_display_name': 'Nutrition & Metabolism', 'primary_location_host_organization_name': 'BioMed Central', 'publication_date': '2025-02-17T00:00:00Z', 'percentiles_value': 0.0, 'percentiles_is_in_top_1_percent': False, 'percentiles_is_in_top_10_percent': False, 'open_access_is_oa': True, 'open_access_oa_status': 'gold', 'countries_codes': 'AU|CH|GB', 'authorships_author_display_name': 'Andrew J. Bennett|Andrew Wilhelmsen|Andréane M. Fouassier|Davide D’Amico|Kostas Tsintzas|Leonidas G. Karagounis|Simon W. Jones', 'authorships_institutions_display_name': \"Amazentis (Switzerland)|Australian Catholic University|Institute of Social and Preventive Medicine|NIHR Birmingham Biomedical Research Centre|Queen Elizabeth Hospital|Queen's Medical Centre|University of Bern|University of Birmingham|University of Nottingham|Versus Arthritis|École Polytechnique Fédérale de Lausanne\", 'topics_display_name': 'Antioxidant Activity and Oxidative Stress|Cynara cardunculus studies|Pomegranate: compositions and health benefits', 'topics_subfield_display_name': 'Biochemistry|Nutrition and Dietetics|Plant Science', 'topics_field_display_name': 'Agricultural and Biological Sciences|Medicine|Nursing', 'topics_domain_display_name': 'Health Sciences|Life Sciences', 'keywords_display_name': 'Myostatin', 'sustainable_development_goals_display_name': 'Zero hunger'}, {'id': 'https://openalex.org/W4407702950', 'doi': 'https://doi.org/10.1186/s13195-025-01684-z', 'title': 'Sex differences in the association of Alzheimer’s disease biomarkers and cognition in a multicenter memory clinic study', 'publication_year': 2025, 'language': 'en', 'type': 'article', 'pmid': 'https://pubmed.ncbi.nlm.nih.gov/39966925', 'mag': '', 'apc_paid': 2931, 'referenced_works_count': 48, 'cited_by_count': 0, 'countries_distinct_count': 4, 'institutions_distinct_count': 11, 'locations_count': 2, 'fwci': 0.0, 'primary_location_display_name': 'Alzheimer s Research & Therapy', 'primary_location_host_organization_name': 'BioMed Central', 'publication_date': '2025-02-18T00:00:00Z', 'percentiles_value': 0.0, 'percentiles_is_in_top_1_percent': False, 'percentiles_is_in_top_10_percent': False, 'open_access_is_oa': True, 'open_access_oa_status': 'gold', 'grants_funder_display_name': 'Université de Genève', 'countries_codes': 'CH|GB|NO|SE', 'authorships_author_display_name': 'Alessandra Griffa|Cecilia Boccalini|Débora Elisa Peretti|Gilles Allali|Giovanni B. Frisoni|Henrik Zetterberg|John O. Prior|Kaj Blennow|Linjing Mu|Max Scheffler|Nathalie Testart Dardel|Nicholas J. Ashton|Valentina Garibotto', 'authorships_institutions_display_name': \"Centre d'Imagerie BioMedicale|Centre for Mental Health|ETH Zurich|King's College London|Sahlgrenska University Hospital|Stavanger University Hospital|University Hospital of Geneva|University of Geneva|University of Gothenburg|University of Lausanne|École Polytechnique Fédérale de Lausanne\", 'topics_display_name': \"Alzheimer's disease research and treatments|Dementia and Cognitive Impairment Research|Neurological Disease Mechanisms and Treatments\", 'topics_subfield_display_name': 'Neurology|Physiology|Psychiatry and Mental health', 'topics_field_display_name': 'Medicine|Neuroscience', 'topics_domain_display_name': 'Health Sciences|Life Sciences', 'keywords_display_name': 'Amyloid (mycology)|Cognitive Decline|Memory clinic', 'sustainable_development_goals_display_name': 'Good health and well-being'}, {'id': 'https://openalex.org/W4407721733', 'doi': 'https://doi.org/10.1016/j.cmpb.2025.108666', 'title': 'Causal associations between scapular morphology and shoulder condition estimated with Bayesian statistics', 'publication_year': 2025, 'language': 'en', 'type': 'article', 'pmid': 'https://pubmed.ncbi.nlm.nih.gov/40009972', 'mag': '', 'apc_paid': 2880, 'referenced_works_count': 55, 'cited_by_count': 0, 'countries_distinct_count': 1, 'institutions_distinct_count': 3, 'locations_count': 2, 'fwci': 0.0, 'primary_location_display_name': 'Computer Methods and Programs in Biomedicine', 'primary_location_host_organization_name': 'Elsevier BV', 'publication_date': '2025-02-18T00:00:00Z', 'percentiles_value': 0.0, 'percentiles_is_in_top_1_percent': False, 'percentiles_is_in_top_10_percent': False, 'open_access_is_oa': True, 'open_access_oa_status': 'hybrid', 'grants_funder_display_name': 'Schweizerischer Nationalfonds zur Förderung der Wissenschaftlichen Forschung', 'countries_codes': 'CH', 'authorships_author_display_name': 'Alexandre Terrier|Dominique P. Pioletti|Fabio Becce|Osman Berk Şatır|Patrick Goetti|Pezhman Eghbali|Philippe Büchler', 'authorships_institutions_display_name': 'University of Bern|University of Lausanne|École Polytechnique Fédérale de Lausanne', 'topics_display_name': 'Hip disorders and treatments|Shoulder Injury and Treatment|Shoulder and Clavicle Injuries', 'topics_subfield_display_name': 'Epidemiology|Surgery', 'topics_field_display_name': 'Medicine', 'topics_domain_display_name': 'Health Sciences', 'keywords_display_name': 'Acromion'}, {'id': 'https://openalex.org/W4407742717', 'doi': 'https://doi.org/10.3390/systems13020135', 'title': 'Bridging the Gender Gap in Climate-Resilient Sweet Potato Farming: A Case Study from Goromonzi District, Zimbabwe', 'publication_year': 2025, 'language': 'en', 'type': 'article', 'pmid': '', 'mag': '', 'apc_paid': 1732, 'referenced_works_count': 0, 'cited_by_count': 0, 'countries_distinct_count': 3, 'institutions_distinct_count': 4, 'locations_count': 1, 'fwci': 0.0, 'primary_location_display_name': 'Systems', 'primary_location_host_organization_name': 'Multidisciplinary Digital Publishing Institute', 'publication_date': '2025-02-19T00:00:00Z', 'percentiles_value': 0.0, 'percentiles_is_in_top_1_percent': False, 'percentiles_is_in_top_10_percent': False, 'open_access_is_oa': True, 'open_access_oa_status': 'gold', 'countries_codes': 'CH|MA|ZW', 'authorships_author_display_name': 'Davison Gondo|Edward Mutandwa|Herbert Pfuma|Jean-Claude Baraka Munyaka|Jérôme Chenal|Olivier Gallay|Rumbidzai Mhembere|Shawn Chipise|Tariro Pindayi|Tinotenda Tamanikwa|Ximena Salgado', 'authorships_institutions_display_name': 'University of Lausanne|University of Zimbabwe|Université Mohammed VI Polytechnique|École Polytechnique Fédérale de Lausanne', 'topics_display_name': 'Agricultural Economics and Policy', 'topics_subfield_display_name': 'General Agricultural and Biological Sciences', 'topics_field_display_name': 'Agricultural and Biological Sciences', 'topics_domain_display_name': 'Life Sciences'}, {'id': 'https://openalex.org/W4407952964', 'doi': 'https://doi.org/10.1016/j.psychres.2025.116423', 'title': 'Multivariate deep phenotyping reveals behavioral correlates of non-restorative sleep in 22q11.2 Deletion Syndrome', 'publication_year': 2025, 'language': 'en', 'type': 'article', 'pmid': 'https://pubmed.ncbi.nlm.nih.gov/40023094', 'mag': '', 'apc_paid': 3420, 'referenced_works_count': 79, 'cited_by_count': 0, 'countries_distinct_count': 2, 'institutions_distinct_count': 4, 'locations_count': 3, 'fwci': 0.0, 'primary_location_display_name': 'Psychiatry Research', 'primary_location_host_organization_name': 'Elsevier BV', 'publication_date': '2025-02-26T00:00:00Z', 'percentiles_value': 0.0, 'percentiles_is_in_top_1_percent': False, 'percentiles_is_in_top_10_percent': False, 'open_access_is_oa': True, 'open_access_oa_status': 'hybrid', 'grants_funder_display_name': 'Schweizerischer Nationalfonds zur Förderung der Wissenschaftlichen Forschung|nccr – on the move', 'countries_codes': 'CH|NL', 'authorships_author_display_name': 'Andrea Imparato|Corrado Sandini|Farnaz Delavari|Francesca Siclari|Jacinthe Cataldi|Maude Schneider|Natacha Reich|Niveettha Thillainathan|Stéphan Eliez', 'authorships_institutions_display_name': 'Netherlands Institute for Neuroscience|University of Geneva|University of Lausanne|École Polytechnique Fédérale de Lausanne', 'topics_display_name': 'Congenital heart defects research|Neuroscience of respiration and sleep|Sleep and Wakefulness Research', 'topics_subfield_display_name': 'Cognitive Neuroscience|Endocrine and Autonomic Systems|Molecular Biology', 'topics_field_display_name': 'Biochemistry, Genetics and Molecular Biology|Neuroscience', 'topics_domain_display_name': 'Life Sciences', 'keywords_display_name': 'Sleep', 'sustainable_development_goals_display_name': 'Zero hunger'}, {'id': 'https://openalex.org/W4407980829', 'doi': 'https://doi.org/10.1029/2024gl112638', 'title': 'How Stress Biaxiality Controls Crack Morphology and Apparent Fracture Energy of Dikes and Sills', 'publication_year': 2025, 'language': 'en', 'type': 'article', 'pmid': '', 'mag': '', 'apc_paid': 2900, 'referenced_works_count': 69, 'cited_by_count': 0, 'countries_distinct_count': 2, 'institutions_distinct_count': 5, 'locations_count': 1, 'fwci': 0.0, 'primary_location_display_name': 'Geophysical Research Letters', 'primary_location_host_organization_name': 'American Geophysical Union', 'publication_date': '2025-02-24T00:00:00Z', 'percentiles_value': 0.0, 'percentiles_is_in_top_1_percent': False, 'percentiles_is_in_top_10_percent': False, 'open_access_is_oa': True, 'open_access_oa_status': 'gold', 'grants_funder_display_name': 'École Polytechnique Fédérale de Lausanne', 'countries_codes': 'CH|FR', 'authorships_author_display_name': 'Antoine Guggisberg|Jo Ellen Moore|Marie Violay|Mathias Lebihain', 'authorships_institutions_display_name': 'Centre National de la Recherche Scientifique|Laboratoire Navier|University of Lausanne|Université Gustave Eiffel|École Polytechnique Fédérale de Lausanne', 'topics_display_name': 'Drilling and Well Engineering|Material Properties and Failure Mechanisms|Rock Mechanics and Modeling', 'topics_subfield_display_name': 'Materials Chemistry|Mechanics of Materials|Ocean Engineering', 'topics_field_display_name': 'Engineering|Materials Science', 'topics_domain_display_name': 'Physical Sciences', 'keywords_display_name': 'Dike|Morphology|Sill', 'sustainable_development_goals_display_name': 'Affordable and clean energy'}, {'id': 'https://openalex.org/W4407996964', 'doi': 'https://doi.org/10.3390/polym17050638', 'title': 'In Vitro Evaluation and Clinical Effects of a Regenerative Complex with Non-Cross-Linked Hyaluronic Acid and a High-Molecular-Weight Polynucleotide for Periorbital Treatment', 'publication_year': 2025, 'language': 'en', 'type': 'article', 'pmid': 'https://pubmed.ncbi.nlm.nih.gov/40076130', 'mag': '', 'apc_paid': 2598, 'referenced_works_count': 54, 'cited_by_count': 0, 'countries_distinct_count': 2, 'institutions_distinct_count': 5, 'locations_count': 2, 'fwci': 0.0, 'primary_location_display_name': 'Polymers', 'primary_location_host_organization_name': 'Multidisciplinary Digital Publishing Institute', 'publication_date': '2025-02-27T00:00:00Z', 'percentiles_value': 0.0, 'percentiles_is_in_top_1_percent': False, 'percentiles_is_in_top_10_percent': False, 'open_access_is_oa': True, 'open_access_oa_status': 'gold', 'countries_codes': 'CH|SA', 'authorships_author_display_name': 'Alexandre Porcello|Alexis Laurent|Corinne Scaletta|Cíntia Marques|Hanadi Sami Abuyousif|Kelly Lourenço|Lee Ann Applegate|Marco Cerrano|Michèle Chemali|Nathalie Hirt‐Burri|Philippe Abdel-Sayed|W. Raffoul', 'authorships_institutions_display_name': 'Hôpital de Morges|Swiss Institute for Regenerative Medicine|University of Lausanne|University of Zurich|École Polytechnique Fédérale de Lausanne', 'topics_display_name': 'Facial Rejuvenation and Surgery Techniques|Nasal Surgery and Airway Studies|Skin Protection and Aging', 'topics_subfield_display_name': 'Dermatology|Surgery', 'topics_field_display_name': 'Medicine', 'topics_domain_display_name': 'Health Sciences', 'keywords_display_name': 'Polynucleotide|Regenerative Medicine'}, {'id': 'https://openalex.org/W4408244824', 'doi': 'https://doi.org/10.1002/advs.202415808', 'title': 'Multimodal Nanoplasmonic and Fluorescence Imaging for Simultaneous Monitoring of Single‐Cell Secretory and Intracellular Dynamics', 'publication_year': 2025, 'language': 'en', 'type': 'article', 'pmid': 'https://pubmed.ncbi.nlm.nih.gov/40042114', 'mag': '', 'apc_paid': 5000, 'referenced_works_count': 48, 'cited_by_count': 0, 'countries_distinct_count': 1, 'institutions_distinct_count': 3, 'locations_count': 2, 'fwci': 0.0, 'primary_location_display_name': 'Advanced Science', 'primary_location_host_organization_name': 'Wiley', 'publication_date': '2025-03-05T00:00:00Z', 'percentiles_value': 0.0, 'percentiles_is_in_top_1_percent': False, 'percentiles_is_in_top_10_percent': False, 'open_access_is_oa': True, 'open_access_oa_status': 'gold', 'grants_funder_display_name': 'Schweizerischer Nationalfonds zur Förderung der Wissenschaftlichen Forschung', 'countries_codes': 'CH', 'authorships_author_display_name': 'Hatice Altug|Melita Irving|Patrick Reichenbach|Saeid Ansaryan|Yen‐Cheng Liu|Yi‐Ming Chiang', 'authorships_institutions_display_name': 'Ludwig Cancer Research|University of Lausanne|École Polytechnique Fédérale de Lausanne', 'topics_display_name': 'Advanced Biosensing Techniques and Applications|Advanced biosensing and bioanalysis techniques|Biosensors and Analytical Detection', 'topics_subfield_display_name': 'Biomedical Engineering|Molecular Biology', 'topics_field_display_name': 'Biochemistry, Genetics and Molecular Biology|Engineering', 'topics_domain_display_name': 'Life Sciences|Physical Sciences', 'keywords_display_name': 'Biomolecule|Fluorescence-lifetime imaging microscopy|Live cell imaging'}, {'id': 'https://openalex.org/W4408309259', 'doi': 'https://doi.org/10.1016/j.nbd.2025.106866', 'title': \"Functional dynamic network connectivity differentiates biological patterns in the Alzheimer's disease continuum\", 'publication_year': 2025, 'language': 'en', 'type': 'article', 'pmid': 'https://pubmed.ncbi.nlm.nih.gov/40081429', 'mag': '', 'apc_paid': 2500, 'referenced_works_count': 55, 'cited_by_count': 0, 'countries_distinct_count': 2, 'institutions_distinct_count': 6, 'locations_count': 3, 'fwci': 0.0, 'primary_location_display_name': 'Neurobiology of Disease', 'primary_location_host_organization_name': 'Elsevier BV', 'publication_date': '2025-03-01T00:00:00Z', 'percentiles_value': 0.0, 'percentiles_is_in_top_1_percent': False, 'percentiles_is_in_top_10_percent': False, 'open_access_is_oa': True, 'open_access_oa_status': 'gold', 'countries_codes': 'CH|IT', 'authorships_author_display_name': 'Alessandra Griffa|Federica Cruciani|Gilles Allali|Giovanni B. Frisoni|Gloria Menegaz|Ilaria Boscolo Galazzo|Lorenza Brusini|Lorenzo Pini|Maurizio Corbetta', 'authorships_institutions_display_name': 'University of Geneva|University of Lausanne|University of Padua|University of Verona|Veneto Institute of Molecular Medicine|École Polytechnique Fédérale de Lausanne', 'topics_display_name': \"Alzheimer's disease research and treatments|Bioinformatics and Genomic Networks|Functional Brain Connectivity Studies\", 'topics_subfield_display_name': 'Cognitive Neuroscience|Molecular Biology|Physiology', 'topics_field_display_name': 'Biochemistry, Genetics and Molecular Biology|Medicine|Neuroscience', 'topics_domain_display_name': 'Health Sciences|Life Sciences'}, {'id': 'https://openalex.org/W4408371269', 'doi': 'https://doi.org/10.7150/thno.91873', 'title': 'Transcriptomic profiling of murine GnRH neurons reveals developmental trajectories linked to human reproduction and infertility', 'publication_year': 2025, 'language': 'en', 'type': 'article', 'pmid': 'https://pubmed.ncbi.nlm.nih.gov/40093908', 'mag': '', 'apc_paid': 1671, 'referenced_works_count': 140, 'cited_by_count': 0, 'countries_distinct_count': 1, 'institutions_distinct_count': 4, 'locations_count': 3, 'fwci': 0.0, 'primary_location_display_name': 'Theranostics', 'primary_location_host_organization_name': 'Ivyspring International Publisher', 'publication_date': '2025-02-26T00:00:00Z', 'percentiles_value': 0.0, 'percentiles_is_in_top_1_percent': False, 'percentiles_is_in_top_10_percent': False, 'open_access_is_oa': True, 'open_access_oa_status': 'gold', 'countries_codes': 'CH', 'authorships_author_display_name': 'Andrea Messina|Bart Deplancke|Daniel Alpern|Federico Santoni|Julie Russeil|Nelly Pitteloud|Vincent Gardeux|Yassine Zouaghi', 'authorships_institutions_display_name': 'SIB Swiss Institute of Bioinformatics|University Hospital of Lausanne|University of Lausanne|École Polytechnique Fédérale de Lausanne', 'topics_display_name': 'Congenital heart defects research|Epigenetics and DNA Methylation|Genomics and Chromatin Dynamics', 'topics_subfield_display_name': 'Molecular Biology', 'topics_field_display_name': 'Biochemistry, Genetics and Molecular Biology', 'topics_domain_display_name': 'Life Sciences', 'keywords_display_name': 'Human reproduction|Profiling (computer programming)'}, {'id': 'https://openalex.org/W4408416258', 'doi': 'https://doi.org/10.1007/s00204-025-04013-3', 'title': 'Development of image analysis tool to evaluate Langerhans cell migration after exposure to isothiazolinones', 'publication_year': 2025, 'language': 'en', 'type': 'article', 'pmid': 'https://pubmed.ncbi.nlm.nih.gov/40080107', 'mag': '', 'apc_paid': 5290, 'referenced_works_count': 44, 'cited_by_count': 0, 'countries_distinct_count': 1, 'institutions_distinct_count': 6, 'locations_count': 2, 'fwci': 0.0, 'primary_location_display_name': 'Archives of Toxicology', 'primary_location_host_organization_name': 'Springer Science+Business Media', 'publication_date': '2025-03-13T00:00:00Z', 'percentiles_value': 0.0, 'percentiles_is_in_top_1_percent': False, 'percentiles_is_in_top_10_percent': False, 'open_access_is_oa': True, 'open_access_oa_status': 'hybrid', 'grants_funder_display_name': 'Swiss Centre for Applied Human Toxicology|Université de Lausanne', 'countries_codes': 'CH', 'authorships_author_display_name': 'Arne Seitz|Aurélie Berthet|Christelle Oltramare|Lee Ann Applegate|Nancy B. Hopf|Nathalie Hirt‐Burri|Olivier Burri|Sandra Jaccoud', 'authorships_institutions_display_name': 'Centre universitaire de médecine générale et santé publique, Lausanne|Swiss Centre for Applied Human Toxicology|Swiss School of Public Health|University of Lausanne|Zurich University of Teacher Education|École Polytechnique Fédérale de Lausanne', 'topics_display_name': 'Contact Dermatitis and Allergies|Immunotoxicology and immune responses|Occupational exposure and asthma', 'topics_subfield_display_name': 'Dermatology|Immunology|Public Health, Environmental and Occupational Health', 'topics_field_display_name': 'Immunology and Microbiology|Medicine', 'topics_domain_display_name': 'Health Sciences|Life Sciences', 'keywords_display_name': 'Epidermis (zoology)|Human skin'}, {'id': 'https://openalex.org/W4408489168', 'doi': 'https://doi.org/10.1038/s42003-025-07889-0', 'title': 'Apparent Diffusion Coefficient fMRI shines light on white matter resting-state connectivity compared to BOLD', 'publication_year': 2025, 'language': 'en', 'type': 'article', 'pmid': 'https://pubmed.ncbi.nlm.nih.gov/40091123', 'mag': '', 'apc_paid': 2890, 'referenced_works_count': 99, 'cited_by_count': 0, 'countries_distinct_count': 1, 'institutions_distinct_count': 2, 'locations_count': 2, 'fwci': 0.0, 'primary_location_display_name': 'Communications Biology', 'primary_location_host_organization_name': 'Nature Portfolio', 'publication_date': '2025-03-16T00:00:00Z', 'percentiles_value': 0.0, 'percentiles_is_in_top_1_percent': False, 'percentiles_is_in_top_10_percent': False, 'open_access_is_oa': True, 'open_access_oa_status': 'gold', 'countries_codes': 'CH', 'authorships_author_display_name': 'Arthur P. C. Spencer|Ileana Jelescu|Inès de Riedmatten|Wiktor Olszowy', 'authorships_institutions_display_name': 'University of Lausanne|École Polytechnique Fédérale de Lausanne', 'topics_display_name': 'Advanced MRI Techniques and Applications|Advanced Neuroimaging Techniques and Applications|Functional Brain Connectivity Studies', 'topics_subfield_display_name': 'Cognitive Neuroscience|Radiology, Nuclear Medicine and Imaging', 'topics_field_display_name': 'Medicine|Neuroscience', 'topics_domain_display_name': 'Health Sciences|Life Sciences', 'sustainable_development_goals_display_name': 'Climate action'}, {'id': 'https://openalex.org/W4408535680', 'doi': 'https://doi.org/10.3389/fped.2025.1563979', 'title': 'Absence of association between early antibiotic exposure and short-term adverse outcomes in very preterm infants: a single-center retrospective study', 'publication_year': 2025, 'language': 'en', 'type': 'article', 'pmid': 'https://pubmed.ncbi.nlm.nih.gov/40166661', 'mag': '', 'apc_paid': 2950, 'referenced_works_count': 31, 'cited_by_count': 0, 'countries_distinct_count': 1, 'institutions_distinct_count': 3, 'locations_count': 2, 'fwci': 0.0, 'primary_location_display_name': 'Frontiers in Pediatrics', 'primary_location_host_organization_name': 'Frontiers Media', 'publication_date': '2025-03-17T00:00:00Z', 'percentiles_value': 0.0, 'percentiles_is_in_top_1_percent': False, 'percentiles_is_in_top_10_percent': False, 'open_access_is_oa': True, 'open_access_oa_status': 'gold', 'countries_codes': 'CH', 'authorships_author_display_name': 'Giorgia Carra|Jérémie Despraz|Laura Fillistorf|Robert Matusiak|Sylvain Meylan|Varvara Dimopoulou|Éric Giannoni', 'authorships_institutions_display_name': 'Swiss Data Science Center|University of Lausanne|École Polytechnique Fédérale de Lausanne', 'topics_display_name': 'Infant Development and Preterm Care|Neonatal Respiratory Health Research|Neonatal and Maternal Infections', 'topics_subfield_display_name': 'Pediatrics, Perinatology and Child Health|Public Health, Environmental and Occupational Health|Pulmonary and Respiratory Medicine', 'topics_field_display_name': 'Medicine', 'topics_domain_display_name': 'Health Sciences', 'keywords_display_name': 'Center (category theory)|Single Center'}, {'id': 'https://openalex.org/W4408571261', 'doi': 'https://doi.org/10.1038/s41467-025-57491-5', 'title': 'Marine biogenic humic substances control iron biogeochemistry across the Southern Ocean', 'publication_year': 2025, 'language': 'en', 'type': 'article', 'pmid': 'https://pubmed.ncbi.nlm.nih.gov/40102391', 'mag': '', 'apc_paid': 4808, 'referenced_works_count': 75, 'cited_by_count': 0, 'countries_distinct_count': 4, 'institutions_distinct_count': 7, 'locations_count': 2, 'fwci': 0.0, 'primary_location_display_name': 'Nature Communications', 'primary_location_host_organization_name': 'Nature Portfolio', 'publication_date': '2025-03-18T00:00:00Z', 'percentiles_value': 0.0, 'percentiles_is_in_top_1_percent': False, 'percentiles_is_in_top_10_percent': False, 'open_access_is_oa': True, 'open_access_oa_status': 'gold', 'countries_codes': 'AU|CH|ES|ZA', 'authorships_author_display_name': 'Christel Hassler|Michael J. Ellwood|Rafel Simó|Samuel L. Jaccard|Sarah E. Fawcett', 'authorships_institutions_display_name': 'Australian National University|Institut Català de Ciències del Clima|Institut de Ciències del Mar|University of Cape Town|University of Geneva|University of Lausanne|École Polytechnique Fédérale de Lausanne', 'topics_display_name': 'Marine Biology and Ecology Research|Marine and coastal ecosystems|Microbial Community Ecology and Physiology', 'topics_subfield_display_name': 'Ecology|Oceanography', 'topics_field_display_name': 'Earth and Planetary Sciences|Environmental Science', 'topics_domain_display_name': 'Physical Sciences', 'keywords_display_name': 'Biogeochemical Cycle|Biogeochemistry|Chemical oceanography|Marine bacteriophage', 'sustainable_development_goals_display_name': 'Life below water'}, {'id': 'https://openalex.org/W4409263188', 'doi': 'https://doi.org/10.1073/pnas.2415807122', 'title': 'Structure of a Gcn2 dimer in complex with the large 60S ribosomal subunit', 'publication_year': 2025, 'language': 'en', 'type': 'article', 'pmid': 'https://pubmed.ncbi.nlm.nih.gov/40198700', 'mag': '', 'apc_paid': None, 'referenced_works_count': 85, 'cited_by_count': 0, 'countries_distinct_count': 6, 'institutions_distinct_count': 7, 'locations_count': 2, 'fwci': 0.0, 'primary_location_display_name': 'Proceedings of the National Academy of Sciences', 'primary_location_host_organization_name': 'National Academy of Sciences', 'publication_date': '2025-04-08T00:00:00Z', 'percentiles_value': 0.0, 'percentiles_is_in_top_1_percent': False, 'percentiles_is_in_top_10_percent': False, 'open_access_is_oa': True, 'open_access_oa_status': 'hybrid', 'grants_funder_display_name': 'Advanced Science Institute|Deutsche Forschungsgemeinschaft', 'countries_codes': 'CH|DE|EE|HU|JP|US', 'authorships_author_display_name': 'Ankanahalli N. Nanjaraj Urs|Bertrand Beckert|Daniel N. Wilson|Hani Zaher|Helge Paternoga|Liewei L. Yan|Lu Xia|Lyudmila Dimitrova-Paternoga|Malte Oestereich|Sergo Kasvandik|Sihan Li|Tanel Tenson|Toshifumi Inada', 'authorships_institutions_display_name': 'Institute of Biochemistry|The University of Tokyo|University of Lausanne|University of Tartu|Universität Hamburg|Washington University in St. Louis|École Polytechnique Fédérale de Lausanne', 'topics_display_name': 'RNA Research and Splicing|RNA and protein synthesis mechanisms|RNA modifications and cancer', 'topics_subfield_display_name': 'Molecular Biology', 'topics_field_display_name': 'Biochemistry, Genetics and Molecular Biology', 'topics_domain_display_name': 'Life Sciences', 'keywords_display_name': 'A-site|Eukaryotic Ribosome|Initiation factor|Ribosomal protein', 'sustainable_development_goals_display_name': 'Life on land'}, {'id': 'https://openalex.org/W4409412042', 'doi': 'https://doi.org/10.1084/jem.20231467', 'title': 'Enhanced TLR7-dependent production of type I interferon by pDCs underlies pandemic chilblains', 'publication_year': 2025, 'language': 'en', 'type': 'article', 'pmid': 'https://pubmed.ncbi.nlm.nih.gov/40227192', 'mag': '', 'apc_paid': None, 'referenced_works_count': 92, 'cited_by_count': 0, 'countries_distinct_count': 5, 'institutions_distinct_count': 12, 'locations_count': 2, 'fwci': None, 'primary_location_display_name': 'The Journal of Experimental Medicine', 'primary_location_host_organization_name': 'Rockefeller University Press', 'publication_date': '2025-04-14T00:00:00Z', 'open_access_is_oa': True, 'open_access_oa_status': 'hybrid', 'countries_codes': 'CA|CH|FR|GB|US', 'authorships_author_display_name': 'Ahmad Yatim|Ana Joncic|Charles M. Rice|Corentin Le Floc’h|Curdin Conrad|Danyel Lee|Darragh Duffy|Emmanuelle Jouanguy|Fanny Saidoune|Jacques Fellay|Jean‐Laurent Casanova|Jérémie Le Pen|Jérémy Di Domizio|Marie‐Anne Morren|Michel Gilliet|Raphael Jenelten|Shen‐Ying Zhang|Vincent Bondet|Vivien Béziat', 'authorships_institutions_display_name': 'Great Ormond Street Hospital|Hospital for Sick Children|Howard Hughes Medical Institute|Inserm|Institut Pasteur|Institut des Maladies Génétiques Imagine|Rockefeller University|SickKids Foundation|University College London|University of Lausanne|Université Paris Cité|École Polytechnique Fédérale de Lausanne', 'topics_display_name': 'Dermatological and COVID-19 studies|Parvovirus B19 Infection Studies|Streptococcal Infections and Treatments', 'topics_subfield_display_name': 'Dermatology|Infectious Diseases|Public Health, Environmental and Occupational Health', 'topics_field_display_name': 'Medicine', 'topics_domain_display_name': 'Health Sciences', 'keywords_display_name': 'Plasmacytoid dendritic cell|TLR7|TLR9', 'sustainable_development_goals_display_name': 'Good health and well-being'}, {'id': 'https://openalex.org/W4409487739', 'doi': 'https://doi.org/10.1101/gad.352646.125', 'title': 'A boundary-defining protein facilitates megabase-scale regulatory chromosomal loop formation in<i>Drosophila</i>neurons', 'publication_year': 2025, 'language': 'en', 'type': 'article', 'pmid': 'https://pubmed.ncbi.nlm.nih.gov/40240144', 'mag': '', 'apc_paid': None, 'referenced_works_count': 0, 'cited_by_count': 0, 'countries_distinct_count': 1, 'institutions_distinct_count': 2, 'locations_count': 2, 'fwci': None, 'primary_location_display_name': 'Genes & Development', 'primary_location_host_organization_name': 'Cold Spring Harbor Laboratory Press', 'publication_date': '2025-04-16T00:00:00Z', 'open_access_is_oa': True, 'open_access_oa_status': 'gold', 'grants_funder_display_name': 'European Molecular Biology Organization|Schweizerischer Nationalfonds zur Förderung der Wissenschaftlichen Forschung|Université de Lausanne', 'countries_codes': 'CH', 'authorships_author_display_name': 'Arianna Ravera|Julien Dorier|Maria Cristina Gambetta|Marion Mouginot|Pascal Cousin|Sahar Hani', 'authorships_institutions_display_name': 'University of Lausanne|École Polytechnique Fédérale de Lausanne', 'topics_display_name': 'Genomics and Chromatin Dynamics|Neurobiology and Insect Physiology Research|Plant Molecular Biology Research', 'topics_subfield_display_name': 'Cellular and Molecular Neuroscience|Molecular Biology|Plant Science', 'topics_field_display_name': 'Agricultural and Biological Sciences|Biochemistry, Genetics and Molecular Biology|Neuroscience', 'topics_domain_display_name': 'Life Sciences', 'keywords_display_name': 'Gene regulatory network'}, {'id': 'https://openalex.org/W4409565476', 'doi': 'https://doi.org/10.1038/s41551-025-01378-9', 'title': 'High-resolution prosthetic hearing with a soft auditory brainstem implant in macaques', 'publication_year': 2025, 'language': 'en', 'type': 'article', 'pmid': 'https://pubmed.ncbi.nlm.nih.gov/40251249', 'mag': '', 'apc_paid': 11690, 'referenced_works_count': 41, 'cited_by_count': 0, 'countries_distinct_count': 2, 'institutions_distinct_count': 6, 'locations_count': 2, 'fwci': None, 'primary_location_display_name': 'Nature Biomedical Engineering', 'primary_location_host_organization_name': 'Nature Portfolio', 'publication_date': '2025-04-18T00:00:00Z', 'open_access_is_oa': True, 'open_access_oa_status': 'hybrid', 'grants_funder_display_name': 'Fondation Bertarelli|Schweizerischer Nationalfonds zur Förderung der Wissenschaftlichen Forschung', 'countries_codes': 'CH|US', 'authorships_author_display_name': 'Alejandro Garcia-Chavez|Alix Trouillet|Aurélie Chanthany|Daniel J. Lee|Emilie C. M. Revol|Florent-Valéry Coen|Florian Fallegger|Florian Lanz|Ivan Furfaro|Jocelyne Bloch|Laurine Kolly|Lukas Anschuetz|M. Christian Brown|Maude Delacombaz|Stéphanie P. Lacour|Victor Adenis|Vivek V. Kanumuri', 'authorships_institutions_display_name': 'Harvard University|Massachusetts Eye and Ear Infirmary|University Hospital of Lausanne|University of Fribourg|University of Lausanne|École Polytechnique Fédérale de Lausanne', 'topics_display_name': 'Hearing Loss and Rehabilitation|Neuroscience and Neural Engineering|Tactile and Sensory Interactions', 'topics_subfield_display_name': 'Cellular and Molecular Neuroscience|Cognitive Neuroscience', 'topics_field_display_name': 'Neuroscience', 'topics_domain_display_name': 'Life Sciences', 'keywords_display_name': 'Auditory System|Neuroprosthetics', 'sustainable_development_goals_display_name': 'Quality education'}, {'id': 'https://openalex.org/W4409697357', 'doi': 'https://doi.org/10.1111/epi.18406', 'title': 'Deep learning–based detection of generalized convulsive seizures using a wrist‐worn accelerometer', 'publication_year': 2025, 'language': 'en', 'type': 'article', 'pmid': 'https://pubmed.ncbi.nlm.nih.gov/40265999', 'mag': '', 'apc_paid': 3950, 'referenced_works_count': 38, 'cited_by_count': 0, 'countries_distinct_count': 5, 'institutions_distinct_count': 15, 'locations_count': 2, 'fwci': None, 'primary_location_display_name': 'Epilepsia', 'primary_location_host_organization_name': 'Wiley', 'publication_date': '2025-04-23T00:00:00Z', 'open_access_is_oa': True, 'open_access_oa_status': 'hybrid', 'grants_funder_display_name': 'Schweizerischer Nationalfonds zur Förderung der Wissenschaftlichen Forschung', 'countries_codes': 'AT|CH|DE|DK|FR', 'authorships_author_display_name': 'Adriano Bernini|Antoine Spahr|Bernhard J. Steinhoff|Charles‐Edouard Bardyn|Christoph Baumgartner|David Atienza|Isabelle Beuchat|Johannes Koren|Jonathan Dan|Lukas L. Imbach|Margitta Seeck|Martin Fabricius|Pauline Ducouret|Philippe Ryvlin|Sidsel Armand Larsen|Sylvain Rheims|Sándor Beniczky', 'authorships_institutions_display_name': 'Aarhus University Hospital|Centre National de la Recherche Scientifique|Centre de Recherche en Neurosciences de Lyon|Copenhagen University Hospital|Diakonie Kork|Hospices Civils de Lyon|Klinik Hietzing|Rigshospitalet|Sigmund Freud University Vienna|Swiss Epilepsy Center|University of Freiburg|University of Geneva|University of Lausanne|Université Claude Bernard Lyon 1|École Polytechnique Fédérale de Lausanne', 'topics_display_name': 'EEG and Brain-Computer Interfaces|Epilepsy research and treatment|Vagus Nerve Stimulation Research', 'topics_subfield_display_name': 'Cognitive Neuroscience|Neurology|Psychiatry and Mental health', 'topics_field_display_name': 'Medicine|Neuroscience', 'topics_domain_display_name': 'Health Sciences|Life Sciences'}, {'id': 'https://openalex.org/W4409717136', 'doi': 'https://doi.org/10.1016/j.jad.2025.04.133', 'title': 'Cluster-specific urban contexts associated with high levels of sleep impairment and daytime sleepiness: Findings from the Urbasan collaborative study', 'publication_year': 2025, 'language': 'en', 'type': 'article', 'pmid': 'https://pubmed.ncbi.nlm.nih.gov/40280430', 'mag': '', 'apc_paid': 3210, 'referenced_works_count': 24, 'cited_by_count': 0, 'countries_distinct_count': 1, 'institutions_distinct_count': 7, 'locations_count': 3, 'fwci': None, 'primary_location_display_name': 'Journal of Affective Disorders', 'primary_location_host_organization_name': 'Elsevier BV', 'publication_date': '2025-04-23T00:00:00Z', 'open_access_is_oa': True, 'open_access_oa_status': 'hybrid', 'countries_codes': 'CH', 'authorships_author_display_name': 'Bengt Kayser|Daniel Rappo|Dario Spini|Margarida Ruas|Marie-Noëlle Domon-Aubort|Mathieu Saubade|Michelangelo Mussini|Noemi Romano|Noé Fellay|O. Jeanneret|Philippe Voruz|Quentin Tonnerre|Stéphane Joost|Vincent Faivre|Vincent Grémeaux', 'authorships_institutions_display_name': 'Centre universitaire de médecine générale et santé publique, Lausanne|FORS – Swiss Centre of Expertise in the Social Sciences|HES-SO University of Applied Sciences and Arts Western Switzerland|University of Geneva|University of Lausanne|Y-Parc (Switzerland)|École Polytechnique Fédérale de Lausanne', 'topics_display_name': 'Noise Effects and Management|Sleep and related disorders|Urban Transport and Accessibility', 'topics_subfield_display_name': 'Experimental and Cognitive Psychology|Speech and Hearing|Transportation', 'topics_field_display_name': 'Health Professions|Psychology|Social Sciences', 'topics_domain_display_name': 'Health Sciences|Social Sciences', 'keywords_display_name': 'Sleep', 'sustainable_development_goals_display_name': 'Sustainable cities and communities'}, {'id': 'https://openalex.org/W4409769010', 'doi': 'https://doi.org/10.3390/cells14090633', 'title': 'Adaptive Optics-Transscleral Flood Illumination Imaging of Retinal Pigment Epithelium in Dry Age-Related Macular Degeneration', 'publication_year': 2025, 'language': 'en', 'type': 'article', 'pmid': '', 'mag': '', 'apc_paid': 2382, 'referenced_works_count': 37, 'cited_by_count': 0, 'countries_distinct_count': 2, 'institutions_distinct_count': 11, 'locations_count': 1, 'fwci': None, 'primary_location_display_name': 'Cells', 'primary_location_host_organization_name': 'Multidisciplinary Digital Publishing Institute', 'publication_date': '2025-04-24T00:00:00Z', 'open_access_is_oa': True, 'open_access_oa_status': 'gold', 'countries_codes': 'CH|FR', 'authorships_author_display_name': 'Aurélie Navarro|Christophe Moser|Fanny Jeunet|Francine Béhar‐Cohen|Irmela Mantel|Laura Kowalczuk|Rémy Dornier', 'authorships_institutions_display_name': 'Assistance Publique – Hôpitaux de Paris|Centre de Recherche des Cordeliers|Fondation Asile des Aveugles|Hôpital Cochin|Hôpital Foch|Inserm|Sorbonne Paris Cité|Sorbonne Université|University of Lausanne|Université Paris Cité|École Polytechnique Fédérale de Lausanne', 'topics_display_name': 'Retinal Diseases and Treatments|Retinal Imaging and Analysis|Retinal and Optic Conditions', 'topics_subfield_display_name': 'Ophthalmology|Radiology, Nuclear Medicine and Imaging', 'topics_field_display_name': 'Medicine', 'topics_domain_display_name': 'Health Sciences', 'keywords_display_name': 'Degeneration (medical)'}, {'id': 'https://openalex.org/W4409856856', 'doi': 'https://doi.org/10.1186/s12943-025-02331-9', 'title': 'Epigenomic disorder and partial EMT impair luminal progenitor integrity in Brca1-associated breast tumorigenesis', 'publication_year': 2025, 'language': 'en', 'type': 'article', 'pmid': 'https://pubmed.ncbi.nlm.nih.gov/40289099', 'mag': '', 'apc_paid': 3888, 'referenced_works_count': 64, 'cited_by_count': 0, 'countries_distinct_count': 2, 'institutions_distinct_count': 6, 'locations_count': 2, 'fwci': None, 'primary_location_display_name': 'Molecular Cancer', 'primary_location_host_organization_name': 'BioMed Central', 'publication_date': '2025-04-28T00:00:00Z', 'open_access_is_oa': True, 'open_access_oa_status': 'gold', 'grants_funder_display_name': 'Fondation Bettencourt Schueller|Fondation pour la Recherche Médicale|HORIZON EUROPE European Research Council', 'countries_codes': 'CH|FR', 'authorships_author_display_name': 'Adeline Durand|Amandine Trouchet|Anne Vincent-Salomon|Aurélie Chiche|Camille Landragin|Céline Vallot|Hélène Salmon|Jérémy Mesple|Kyra J. E. Borgman|Marisa M. Faraldo|Marthe Laisné|Mélissa Saichi|Pacôme Prompsy|Renaud Leclère', 'authorships_institutions_display_name': 'Inserm|Institut Curie|Institut Pasteur|University of Lausanne|Université Paris Sciences et Lettres|École Polytechnique Fédérale de Lausanne', 'topics_display_name': 'BRCA gene mutations in cancer|Epigenetics and DNA Methylation|Genomics and Chromatin Dynamics', 'topics_subfield_display_name': 'Genetics|Molecular Biology', 'topics_field_display_name': 'Biochemistry, Genetics and Molecular Biology', 'topics_domain_display_name': 'Life Sciences', 'keywords_display_name': 'Epigenomics|Progenitor', 'sustainable_development_goals_display_name': 'Good health and well-being'}, {'id': 'https://openalex.org/W4409858754', 'doi': 'https://doi.org/10.1007/s00204-025-04043-x', 'title': 'Application of a high-density microelectrode array assay using a 3D human iPSC-derived brain microphysiological system model for in vitro neurotoxicity screening of environmental compounds', 'publication_year': 2025, 'language': 'en', 'type': 'article', 'pmid': 'https://pubmed.ncbi.nlm.nih.gov/40293475', 'mag': '', 'apc_paid': 5290, 'referenced_works_count': 67, 'cited_by_count': 0, 'countries_distinct_count': 2, 'institutions_distinct_count': 6, 'locations_count': 2, 'fwci': None, 'primary_location_display_name': 'Archives of Toxicology', 'primary_location_host_organization_name': 'Springer Science+Business Media', 'publication_date': '2025-04-28T00:00:00Z', 'open_access_is_oa': True, 'open_access_oa_status': 'hybrid', 'grants_funder_display_name': 'Novartis|Swiss Centre for Applied Human Toxicology|Université de Lausanne', 'countries_codes': 'CH|US', 'authorships_author_display_name': 'David Jäckel|David López-Rodríguez|David Pamies|Elena Gronskaya|Jessica Bertoli|Julien Dorier|Kelly E. Carstens|Kelvin Ramirez Cuevas|Marie‐Gabrielle Zurich|Shan Wang|Timothy J. Shafer', 'authorships_institutions_display_name': 'Environmental Protection Agency|Maxwell Technologies (Switzerland)|Research Triangle Park Foundation|Swiss Centre for Applied Human Toxicology|University of Lausanne|École Polytechnique Fédérale de Lausanne', 'topics_display_name': '3D Printing in Biomedical Research|Medicinal Plants and Neuroprotection|Neuroscience and Neural Engineering', 'topics_subfield_display_name': 'Biomedical Engineering|Cellular and Molecular Neuroscience|Complementary and alternative medicine', 'topics_field_display_name': 'Engineering|Medicine|Neuroscience', 'topics_domain_display_name': 'Health Sciences|Life Sciences|Physical Sciences', 'keywords_display_name': 'In vitro toxicology|Multielectrode array|Neurotoxicity'}]\n"
     ]
    }
   ],
   "source": [
    "all_digested_works = client.list_all_works(\n",
    "    digest=True,\n",
    "    filter=\"authorships.institutions.lineage:i5124864,publication_year:2025,type:types/article,open_access.is_oa:true,authorships.institutions.lineage:i97565354\",\n",
    "    per_page=10\n",
    ")\n",
    "print(all_digested_works)\n"
   ]
  },
  {
   "cell_type": "markdown",
   "id": "3da8740c",
   "metadata": {},
   "source": [
    "## Others entities"
   ]
  }
 ],
 "metadata": {
  "kernelspec": {
   "display_name": "base",
   "language": "python",
   "name": "python3"
  },
  "language_info": {
   "codemirror_mode": {
    "name": "ipython",
    "version": 3
   },
   "file_extension": ".py",
   "mimetype": "text/x-python",
   "name": "python",
   "nbconvert_exporter": "python",
   "pygments_lexer": "ipython3",
   "version": "3.12.4"
  }
 },
 "nbformat": 4,
 "nbformat_minor": 5
}
